{
 "cells": [
  {
   "cell_type": "markdown",
   "id": "eaed8ba2",
   "metadata": {},
   "source": [
    "# 🧠 Seq2Seq LSTM Example: Translating 'thank you' → 'obrigado'\n",
    "\n",
    "This notebook demonstrates a minimal, well-commented example of a sequence-to-sequence (seq2seq) translation model using LSTM layers."
   ]
  },
  {
   "cell_type": "code",
   "execution_count": 1,
   "id": "21b85c29",
   "metadata": {},
   "outputs": [],
   "source": [
    "import torch\n",
    "import torch.nn as nn\n",
    "import torch.optim as optim"
   ]
  },
  {
   "cell_type": "markdown",
   "id": "fd81a198",
   "metadata": {},
   "source": [
    "## 🔡 Define toy vocabulary"
   ]
  },
  {
   "cell_type": "code",
   "execution_count": 2,
   "id": "c578beac",
   "metadata": {},
   "outputs": [],
   "source": [
    "# Minimal vocabulary for English and Portuguese\n",
    "en_vocab = {'thank': 0, 'you': 1, '<eos>': 2}\n",
    "pt_vocab = {'<start>': 0, 'obrigado': 1, '<eos>': 2}\n",
    "\n",
    "inv_pt_vocab = {v: k for k, v in pt_vocab.items()}"
   ]
  },
  {
   "cell_type": "markdown",
   "id": "0c5b7cd4",
   "metadata": {},
   "source": [
    "## 📦 Prepare training data"
   ]
  },
  {
   "cell_type": "code",
   "execution_count": 3,
   "id": "247c6e28",
   "metadata": {},
   "outputs": [],
   "source": [
    "# English input: \"thank you <eos>\"\n",
    "# Portuguese target: \"<start> obrigado <eos>\"\n",
    "\n",
    "X = torch.tensor([[en_vocab['thank'], en_vocab['you'], en_vocab['<eos>']]])  # shape: (1, 3)\n",
    "Y = torch.tensor([[pt_vocab['<start>'], pt_vocab['obrigado'], pt_vocab['<eos>']]])  # shape: (1, 3)"
   ]
  },
  {
   "cell_type": "markdown",
   "id": "0aba46d0",
   "metadata": {},
   "source": [
    "## 🔁 Define Encoder LSTM"
   ]
  },
  {
   "cell_type": "code",
   "execution_count": 4,
   "id": "9ac47005",
   "metadata": {},
   "outputs": [],
   "source": [
    "class Encoder(nn.Module):\n",
    "    def __init__(self, input_dim, emb_dim, hidden_dim):\n",
    "        super().__init__()\n",
    "        self.embedding = nn.Embedding(input_dim, emb_dim)\n",
    "        self.lstm = nn.LSTM(emb_dim, hidden_dim, batch_first=True)\n",
    "\n",
    "    def forward(self, x):\n",
    "        embedded = self.embedding(x)\n",
    "        outputs, (h, c) = self.lstm(embedded)\n",
    "        return h, c"
   ]
  },
  {
   "cell_type": "markdown",
   "id": "80a8b099",
   "metadata": {},
   "source": [
    "## 🔁 Define Decoder LSTM"
   ]
  },
  {
   "cell_type": "code",
   "execution_count": 5,
   "id": "133da79f",
   "metadata": {},
   "outputs": [],
   "source": [
    "class Decoder(nn.Module):\n",
    "    def __init__(self, output_dim, emb_dim, hidden_dim):\n",
    "        super().__init__()\n",
    "        self.embedding = nn.Embedding(output_dim, emb_dim)\n",
    "        self.lstm = nn.LSTM(emb_dim, hidden_dim, batch_first=True)\n",
    "        self.fc = nn.Linear(hidden_dim, output_dim)\n",
    "\n",
    "    def forward(self, y, h, c):\n",
    "        embedded = self.embedding(y)\n",
    "        output, (h, c) = self.lstm(embedded, (h, c))\n",
    "        logits = self.fc(output)\n",
    "        return logits, h, c"
   ]
  },
  {
   "cell_type": "code",
   "execution_count": 6,
   "id": "9e863ba4",
   "metadata": {},
   "outputs": [],
   "source": [
    "input_dim = len(en_vocab)\n",
    "output_dim = len(pt_vocab)\n",
    "emb_dim = 8\n",
    "hidden_dim = 16\n",
    "\n",
    "encoder = Encoder(input_dim, emb_dim, hidden_dim)\n",
    "decoder = Decoder(output_dim, emb_dim, hidden_dim)\n",
    "\n",
    "loss_fn = nn.CrossEntropyLoss()\n",
    "optimizer = optim.Adam(list(encoder.parameters()) + list(decoder.parameters()), lr=0.01)"
   ]
  },
  {
   "cell_type": "markdown",
   "id": "b197696f",
   "metadata": {},
   "source": [
    "## 🏋️ Train the model"
   ]
  },
  {
   "cell_type": "code",
   "execution_count": 7,
   "id": "d2f6c8d4",
   "metadata": {},
   "outputs": [
    {
     "name": "stdout",
     "output_type": "stream",
     "text": [
      "Epoch 0, Loss: 1.0633\n",
      "Epoch 10, Loss: 0.4118\n",
      "Epoch 20, Loss: 0.0654\n",
      "Epoch 30, Loss: 0.0152\n",
      "Epoch 40, Loss: 0.0070\n",
      "Epoch 50, Loss: 0.0046\n",
      "Epoch 60, Loss: 0.0036\n",
      "Epoch 70, Loss: 0.0030\n",
      "Epoch 80, Loss: 0.0025\n",
      "Epoch 90, Loss: 0.0022\n"
     ]
    }
   ],
   "source": [
    "for epoch in range(100):\n",
    "    encoder.train()\n",
    "    decoder.train()\n",
    "\n",
    "    h, c = encoder(X)\n",
    "\n",
    "    decoder_input = Y[:, :-1]  # <start>, obrigado\n",
    "    target = Y[:, 1:]          # obrigado, <eos>\n",
    "\n",
    "    logits, _, _ = decoder(decoder_input, h, c)\n",
    "    loss = loss_fn(logits.squeeze(0), target.squeeze(0))\n",
    "\n",
    "    optimizer.zero_grad()\n",
    "    loss.backward()\n",
    "    optimizer.step()\n",
    "\n",
    "    if epoch % 10 == 0:\n",
    "        print(f\"Epoch {epoch}, Loss: {loss.item():.4f}\")"
   ]
  },
  {
   "cell_type": "markdown",
   "id": "e46eaf2a",
   "metadata": {},
   "source": [
    "## 🔤 Inference: Translate 'thank you'"
   ]
  },
  {
   "cell_type": "code",
   "execution_count": 8,
   "id": "6422e41b",
   "metadata": {},
   "outputs": [
    {
     "name": "stdout",
     "output_type": "stream",
     "text": [
      "Predicted translation: obrigado <eos> <eos>\n"
     ]
    }
   ],
   "source": [
    "encoder.eval()\n",
    "decoder.eval()\n",
    "\n",
    "with torch.no_grad():\n",
    "    h, c = encoder(X)\n",
    "    decoder_input = torch.tensor([[pt_vocab['<start>']]])\n",
    "    result = []\n",
    "\n",
    "    for _ in range(3):\n",
    "        logits, h, c = decoder(decoder_input, h, c)\n",
    "        next_token = logits.argmax(2)[:, -1]\n",
    "        token_id = next_token.item()\n",
    "        result.append(inv_pt_vocab[token_id])\n",
    "        decoder_input = next_token.unsqueeze(0)\n",
    "\n",
    "print(\"Predicted translation:\", \" \".join(result))"
   ]
  }
 ],
 "metadata": {
  "kernelspec": {
   "display_name": ".venv",
   "language": "python",
   "name": "python3"
  },
  "language_info": {
   "codemirror_mode": {
    "name": "ipython",
    "version": 3
   },
   "file_extension": ".py",
   "mimetype": "text/x-python",
   "name": "python",
   "nbconvert_exporter": "python",
   "pygments_lexer": "ipython3",
   "version": "3.12.10"
  }
 },
 "nbformat": 4,
 "nbformat_minor": 5
}
