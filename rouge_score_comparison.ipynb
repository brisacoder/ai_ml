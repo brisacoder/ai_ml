{
 "cells": [
  {
   "cell_type": "markdown",
   "metadata": {},
   "source": [
    "# 📊 ROUGE Score Comparison\n",
    "\n",
    "This notebook demonstrates how to calculate and compare various ROUGE scores — ROUGE-1, ROUGE-2, ROUGE-L, and ROUGE-Lsum — using Hugging Face's `evaluate` library."
   ]
  },
  {
   "cell_type": "code",
   "execution_count": null,
   "metadata": {},
   "outputs": [],
   "source": [
    "# Install required library (uncomment if needed)\n",
    "# !pip install evaluate"
   ]
  },
  {
   "cell_type": "code",
   "execution_count": null,
   "metadata": {},
   "outputs": [],
   "source": [
    "import evaluate\n",
    "from pprint import pprint"
   ]
  },
  {
   "cell_type": "code",
   "execution_count": null,
   "metadata": {},
   "outputs": [],
   "source": [
    "# Load the ROUGE metric\n",
    "rouge = evaluate.load(\"rouge\")"
   ]
  },
  {
   "cell_type": "code",
   "execution_count": null,
   "metadata": {},
   "outputs": [],
   "source": [
    "# Define model-generated and reference summaries\n",
    "predictions = [\n",
    "    \"I loved reading the Hunger Games.\"\n",
    "]\n",
    "\n",
    "references = [\n",
    "    \"I really enjoyed reading the Hunger Games.\"\n",
    "]"
   ]
  },
  {
   "cell_type": "code",
   "execution_count": null,
   "metadata": {},
   "outputs": [],
   "source": [
    "# Compute ROUGE scores\n",
    "results = rouge.compute(predictions=predictions, references=references, use_stemmer=True)\n",
    "pprint(results)"
   ]
  },
  {
   "cell_type": "markdown",
   "metadata": {},
   "source": [
    "### 🔍 Interpretation\n",
    "- **ROUGE-1**: Unigram overlap (word-level)\n",
    "- **ROUGE-2**: Bigram overlap (consecutive word pairs)\n",
    "- **ROUGE-L**: Longest common subsequence (sentence structure)\n",
    "- **ROUGE-Lsum**: Summary-level longest common subsequence\n",
    "\n",
    "These metrics help assess the similarity between generated and reference summaries across different granularities."
   ]
  }
 ],
 "metadata": {
  "kernelspec": {
   "display_name": ".venv",
   "language": "python",
   "name": "python3"
  },
  "language_info": {
   "codemirror_mode": {
    "name": "ipython",
    "version": 3
   },
   "file_extension": ".py",
   "mimetype": "text/x-python",
   "name": "python",
   "nbconvert_exporter": "python",
   "pygments_lexer": "ipython3",
   "version": "3.13.3"
  }
 },
 "nbformat": 4,
 "nbformat_minor": 5
}
