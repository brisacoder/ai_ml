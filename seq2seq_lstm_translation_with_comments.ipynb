{
 "cells": [
  {
   "cell_type": "markdown",
   "id": "391a3120",
   "metadata": {},
   "source": [
    "# 🧠 Seq2Seq LSTM Example: 'thank you' → 'obrigado'\n",
    "\n",
    "This notebook walks through a small, self-contained sequence-to-sequence translation model using LSTM, with detailed comments for educational clarity."
   ]
  },
  {
   "cell_type": "code",
   "execution_count": null,
   "id": "c0c2645a",
   "metadata": {},
   "outputs": [],
   "source": [
    "import torch\n",
    "import torch.nn as nn\n",
    "import torch.optim as optim"
   ]
  },
  {
   "cell_type": "markdown",
   "id": "4236b014",
   "metadata": {},
   "source": [
    "## 🧾 Define a Minimal Vocabulary"
   ]
  },
  {
   "cell_type": "code",
   "execution_count": null,
   "id": "ce6fc703",
   "metadata": {},
   "outputs": [],
   "source": [
    "# Token-to-index mappings\n",
    "en_vocab = {'thank': 0, 'you': 1, '<eos>': 2}\n",
    "pt_vocab = {'<start>': 0, 'obrigado': 1, '<eos>': 2}\n",
    "\n",
    "# Index-to-token mapping for decoding\n",
    "inv_pt_vocab = {v: k for k, v in pt_vocab.items()}"
   ]
  },
  {
   "cell_type": "markdown",
   "id": "9aba9d9f",
   "metadata": {},
   "source": [
    "## 📦 Prepare Training Data"
   ]
  },
  {
   "cell_type": "code",
   "execution_count": null,
   "id": "147748c8",
   "metadata": {},
   "outputs": [],
   "source": [
    "# English: thank you <eos>\n",
    "# Portuguese: <start> obrigado <eos>\n",
    "X = torch.tensor([[en_vocab['thank'], en_vocab['you'], en_vocab['<eos>']]])\n",
    "Y = torch.tensor([[pt_vocab['<start>'], pt_vocab['obrigado'], pt_vocab['<eos>']]])"
   ]
  },
  {
   "cell_type": "markdown",
   "id": "3ef1f1d9",
   "metadata": {},
   "source": [
    "## 🔁 Encoder LSTM"
   ]
  },
  {
   "cell_type": "code",
   "execution_count": null,
   "id": "37d8a1da",
   "metadata": {},
   "outputs": [],
   "source": [
    "class Encoder(nn.Module):\n",
    "    def __init__(self, input_dim, emb_dim, hidden_dim):\n",
    "        super().__init__()\n",
    "        self.embedding = nn.Embedding(input_dim, emb_dim)\n",
    "        self.lstm = nn.LSTM(emb_dim, hidden_dim, batch_first=True)\n",
    "\n",
    "    def forward(self, x):\n",
    "        embedded = self.embedding(x)  # Convert word indices to vectors\n",
    "        outputs, (h, c) = self.lstm(embedded)  # Only need final (h, c)\n",
    "        return h, c"
   ]
  },
  {
   "cell_type": "markdown",
   "id": "d4a378f2",
   "metadata": {},
   "source": [
    "## 🔁 Decoder LSTM"
   ]
  },
  {
   "cell_type": "code",
   "execution_count": null,
   "id": "9868498b",
   "metadata": {},
   "outputs": [],
   "source": [
    "class Decoder(nn.Module):\n",
    "    def __init__(self, output_dim, emb_dim, hidden_dim):\n",
    "        super().__init__()\n",
    "        self.embedding = nn.Embedding(output_dim, emb_dim)\n",
    "        self.lstm = nn.LSTM(emb_dim, hidden_dim, batch_first=True)\n",
    "        self.fc = nn.Linear(hidden_dim, output_dim)\n",
    "\n",
    "    def forward(self, y, h, c):\n",
    "        embedded = self.embedding(y)           # Convert word index to embedding\n",
    "        output, (h, c) = self.lstm(embedded, (h, c))  # Run one step with state\n",
    "        logits = self.fc(output)               # Convert hidden state to vocab logits\n",
    "        return logits, h, c"
   ]
  },
  {
   "cell_type": "markdown",
   "id": "96c1ea0b",
   "metadata": {},
   "source": [
    "## ⚙️ Model Setup"
   ]
  },
  {
   "cell_type": "code",
   "execution_count": null,
   "id": "79137f9c",
   "metadata": {},
   "outputs": [],
   "source": [
    "input_dim = len(en_vocab)\n",
    "output_dim = len(pt_vocab)\n",
    "emb_dim = 8\n",
    "hidden_dim = 16\n",
    "\n",
    "encoder = Encoder(input_dim, emb_dim, hidden_dim)\n",
    "decoder = Decoder(output_dim, emb_dim, hidden_dim)\n",
    "\n",
    "loss_fn = nn.CrossEntropyLoss()\n",
    "optimizer = optim.Adam(list(encoder.parameters()) + list(decoder.parameters()), lr=0.01)"
   ]
  },
  {
   "cell_type": "markdown",
   "id": "9b3baf42",
   "metadata": {},
   "source": [
    "## 🏋️ Training Loop"
   ]
  },
  {
   "cell_type": "code",
   "execution_count": null,
   "id": "6e04522a",
   "metadata": {},
   "outputs": [],
   "source": [
    "for epoch in range(100):\n",
    "    encoder.train()\n",
    "    decoder.train()\n",
    "\n",
    "    h, c = encoder(X)\n",
    "\n",
    "    decoder_input = Y[:, :-1]  # all tokens except the last\n",
    "    target = Y[:, 1:]          # all tokens except the first\n",
    "\n",
    "    logits, _, _ = decoder(decoder_input, h, c)\n",
    "    loss = loss_fn(logits.squeeze(0), target.squeeze(0))\n",
    "\n",
    "    optimizer.zero_grad()\n",
    "    loss.backward()\n",
    "    optimizer.step()\n",
    "\n",
    "    if epoch % 10 == 0:\n",
    "        print(f\"Epoch {epoch}, Loss: {loss.item():.4f}\")"
   ]
  },
  {
   "cell_type": "markdown",
   "id": "eda211c5",
   "metadata": {},
   "source": [
    "## 🧪 Inference and Decoding\n",
    "We simulate translation at test time by feeding the decoder's output token back in as its next input."
   ]
  },
  {
   "cell_type": "code",
   "execution_count": null,
   "id": "4c0221dd",
   "metadata": {},
   "outputs": [],
   "source": [
    "# Set models to evaluation mode (turn off dropout etc.)\n",
    "encoder.eval()\n",
    "decoder.eval()\n",
    "\n",
    "# Turn off gradient tracking for inference\n",
    "with torch.no_grad():\n",
    "    # Encode the input sentence to get the final hidden state\n",
    "    h, c = encoder(X)\n",
    "\n",
    "    # Start token for the decoder\n",
    "    decoder_input = torch.tensor([[pt_vocab['<start>']]])\n",
    "\n",
    "    result = []\n",
    "\n",
    "    for _ in range(3):  # Max 3 decoding steps\n",
    "        # Pass input + hidden state into decoder\n",
    "        logits, h, c = decoder(decoder_input, h, c)\n",
    "\n",
    "        # Take the most likely token (argmax) from logits\n",
    "        next_token = logits.argmax(2)[:, -1]  # shape: [batch]\n",
    "\n",
    "        # Convert token ID to string\n",
    "        token_id = next_token.item()\n",
    "        result.append(inv_pt_vocab[token_id])\n",
    "\n",
    "        # Next input to decoder is this token\n",
    "        decoder_input = next_token.unsqueeze(0)\n",
    "\n",
    "print(\"Predicted translation:\", \" \".join(result))"
   ]
  }
 ],
 "metadata": {
  "kernelspec": {
   "display_name": ".venv",
   "language": "python",
   "name": "python3"
  },
  "language_info": {
   "name": "python",
   "version": "3.12.10"
  }
 },
 "nbformat": 4,
 "nbformat_minor": 5
}
