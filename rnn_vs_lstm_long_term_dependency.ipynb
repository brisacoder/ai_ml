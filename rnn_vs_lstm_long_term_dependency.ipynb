{
 "cells": [
  {
   "cell_type": "markdown",
   "id": "7d80cdc2",
   "metadata": {},
   "source": [
    "# 🔁 RNN vs LSTM: Long-Term Dependency Demonstration\n",
    "This notebook compares a simple RNN and LSTM on a synthetic task where the output depends only on the **first** token of the sequence."
   ]
  },
  {
   "cell_type": "code",
   "execution_count": null,
   "id": "11d69aa1",
   "metadata": {},
   "outputs": [],
   "source": [
    "import torch\n",
    "import torch.nn as nn\n",
    "import matplotlib.pyplot as plt"
   ]
  },
  {
   "cell_type": "markdown",
   "id": "c129b23e",
   "metadata": {},
   "source": [
    "## 📦 Generate Synthetic Data"
   ]
  },
  {
   "cell_type": "code",
   "execution_count": null,
   "id": "ef7b05e7",
   "metadata": {},
   "outputs": [],
   "source": [
    "def generate_data(n=1000, seq_len=20):\n",
    "    X = torch.randint(0, 2, (n, seq_len)).float()\n",
    "    y = X[:, 0]  # label = first element\n",
    "    return X.unsqueeze(-1), y\n",
    "\n",
    "X, y = generate_data()"
   ]
  },
  {
   "cell_type": "markdown",
   "id": "37eb4c0e",
   "metadata": {},
   "source": [
    "## 🧠 Define RNN and LSTM Models"
   ]
  },
  {
   "cell_type": "code",
   "execution_count": null,
   "id": "e9a0673e",
   "metadata": {},
   "outputs": [],
   "source": [
    "class RNNModel(nn.Module):\n",
    "    def __init__(self):\n",
    "        super().__init__()\n",
    "        self.rnn = nn.RNN(input_size=1, hidden_size=16, batch_first=True)\n",
    "        self.fc = nn.Linear(16, 1)\n",
    "\n",
    "    def forward(self, x):\n",
    "        out, _ = self.rnn(x)\n",
    "        return torch.sigmoid(self.fc(out[:, -1, :]))\n",
    "\n",
    "class LSTMModel(nn.Module):\n",
    "    def __init__(self):\n",
    "        super().__init__()\n",
    "        self.lstm = nn.LSTM(input_size=1, hidden_size=16, batch_first=True)\n",
    "        self.fc = nn.Linear(16, 1)\n",
    "\n",
    "    def forward(self, x):\n",
    "        out, _ = self.lstm(x)\n",
    "        return torch.sigmoid(self.fc(out[:, -1, :]))"
   ]
  },
  {
   "cell_type": "markdown",
   "id": "65852ad4",
   "metadata": {},
   "source": [
    "## 🏋️ Train and Compare Both Models"
   ]
  },
  {
   "cell_type": "code",
   "execution_count": null,
   "id": "265f711f",
   "metadata": {},
   "outputs": [],
   "source": [
    "def train_model(model, X, y, epochs=20):\n",
    "    loss_fn = nn.BCELoss()\n",
    "    optimizer = torch.optim.Adam(model.parameters(), lr=0.01)\n",
    "    losses = []\n",
    "    for _ in range(epochs):\n",
    "        pred = model(X).squeeze()\n",
    "        loss = loss_fn(pred, y)\n",
    "        optimizer.zero_grad()\n",
    "        loss.backward()\n",
    "        optimizer.step()\n",
    "        losses.append(loss.item())\n",
    "    return losses\n",
    "\n",
    "rnn_model = RNNModel()\n",
    "lstm_model = LSTMModel()\n",
    "rnn_losses = train_model(rnn_model, X, y)\n",
    "lstm_losses = train_model(lstm_model, X, y)"
   ]
  },
  {
   "cell_type": "markdown",
   "id": "e079ba9a",
   "metadata": {},
   "source": [
    "## 📉 Loss Comparison"
   ]
  },
  {
   "cell_type": "code",
   "execution_count": null,
   "id": "de630024",
   "metadata": {},
   "outputs": [],
   "source": [
    "plt.plot(rnn_losses, label='RNN Loss')\n",
    "plt.plot(lstm_losses, label='LSTM Loss')\n",
    "plt.xlabel('Epoch')\n",
    "plt.ylabel('Loss')\n",
    "plt.title('RNN vs LSTM on Long-Term Dependency Task')\n",
    "plt.legend()\n",
    "plt.grid(True)\n",
    "plt.show()"
   ]
  },
  {
   "cell_type": "markdown",
   "id": "18b7aa39",
   "metadata": {},
   "source": [
    "## ✅ Conclusion\n",
    "- The RNN struggles to reduce loss because it **forgets** the first token.\n",
    "- The LSTM learns the task more effectively, demonstrating its ability to retain **long-term dependencies**."
   ]
  }
 ],
 "metadata": {},
 "nbformat": 4,
 "nbformat_minor": 5
}
