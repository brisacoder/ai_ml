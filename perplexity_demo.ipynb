
{
 "cells": [
  {
   "cell_type": "markdown",
   "metadata": {},
   "source": [
    "# 📘 Perplexity in Language Modeling\n",
    "This notebook demonstrates how perplexity is computed and how it reflects a language model’s uncertainty in predicting text."
   ]
  },
  {
   "cell_type": "markdown",
   "metadata": {},
   "source": [
    "## 🔢 Example Sentence\n",
    "Suppose our model is trying to predict the sentence:\n",
    "> *"The cat sat on the mat"*\n",
    "\n",
    "We simulate the model's probabilities of correctly predicting each word in the sequence."
   ]
  },
  {
   "cell_type": "code",
   "execution_count": null,
   "metadata": {},
   "outputs": [],
   "source": [
    "import numpy as np\n",
    "import matplotlib.pyplot as plt\n",
    "\n",
    "# Probabilities assigned by the model to each correct next word\n",
    "probs = np.array([0.1, 0.6, 0.5, 0.4, 0.6, 0.3])\n",
    "words = ["The", "cat", "sat", "on", "the", "mat"]\n",
    "\n",
    "# Log probabilities\n",
    "log_probs = np.log(probs)\n",
    "\n",
    "# Negative average log likelihood\n",
    "nll = -np.mean(log_probs)\n",
    "\n",
    "# Perplexity\n",
    "perplexity = np.exp(nll)\n",
    "print(f"Perplexity: {perplexity:.4f}")"
   ]
  },
  {
   "cell_type": "markdown",
   "metadata": {},
   "source": [
    "## 📊 Visualization of Log Probabilities"
   ]
  },
  {
   "cell_type": "code",
   "execution_count": null,
   "metadata": {},
   "outputs": [],
   "source": [
    "plt.figure(figsize=(10, 5))\n",
    "plt.bar(words, -log_probs, color='skyblue')\n",
    "plt.ylabel('-log(P(word))')\n",
    "plt.title('Negative Log Probabilities per Token')\n",
    "plt.grid(axis='y')\n",
    "plt.show()"
   ]
  },
  {
   "cell_type": "markdown",
   "metadata": {},
   "source": [
    "## 📘 Interpretation\n",
    "- Lower perplexity means the model is more confident.\n",
    "- A perplexity of ~2.78 implies that the model is about as uncertain as picking each word from ~2.78 options.\n",
    "- In real NLP models, perplexities below 20 on test corpora like Penn Treebank or WikiText-2 are considered good."
   ]
  }
 ],
 "metadata": {
  "kernelspec": {
   "display_name": "Python 3",
   "language": "python",
   "name": "python3"
  },
  "language_info": {
   "name": "python",
   "version": "3.10"
  }
 },
 "nbformat": 4,
 "nbformat_minor": 5
}
