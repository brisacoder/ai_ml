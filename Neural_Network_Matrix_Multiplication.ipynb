{
 "cells": [
  {
   "cell_type": "markdown",
   "id": "81b7e74e",
   "metadata": {},
   "source": [
    "# Feedforward Neural Network: Scalar vs Matrix Multiplication\n",
    "This notebook explains how each neuron in a hidden layer computes its output independently using scalar math, and how that same process can be represented compactly using matrix multiplication."
   ]
  },
  {
   "cell_type": "markdown",
   "id": "c328dd69",
   "metadata": {},
   "source": [
    "## Network Setup\n",
    "We use:\n",
    "- 2 input features\n",
    "- 1 hidden layer with 3 neurons\n",
    "- ReLU activation\n",
    "- Focus is on hidden layer math only"
   ]
  },
  {
   "cell_type": "code",
   "execution_count": 1,
   "id": "c3c87978",
   "metadata": {},
   "outputs": [],
   "source": [
    "import numpy as np\n",
    "\n",
    "# Inputs\n",
    "x1, x2 = 2.0, 3.0\n",
    "x = np.array([x1, x2])\n",
    "\n",
    "# Weights and biases for 3 hidden neurons\n",
    "w1 = [0.1, 0.2]\n",
    "w2 = [0.4, 0.5]\n",
    "w3 = [0.7, 0.8]\n",
    "b1, b2, b3 = 0.1, 0.1, 0.1\n"
   ]
  },
  {
   "cell_type": "markdown",
   "id": "f51a3997",
   "metadata": {},
   "source": [
    "## Scalar Computation\n",
    "Each hidden neuron calculates its output independently."
   ]
  },
  {
   "cell_type": "code",
   "execution_count": 2,
   "id": "ae23e9ae",
   "metadata": {},
   "outputs": [
    {
     "name": "stdout",
     "output_type": "stream",
     "text": [
      "z1, z2, z3 = 0.9 2.4 3.9000000000000004\n",
      "a1, a2, a3 (ReLU) = 0.9 2.4 3.9000000000000004\n"
     ]
    }
   ],
   "source": [
    "# Compute weighted sums (z) manually for each neuron\n",
    "z1 = w1[0] * x1 + w1[1] * x2 + b1\n",
    "z2 = w2[0] * x1 + w2[1] * x2 + b2\n",
    "z3 = w3[0] * x1 + w3[1] * x2 + b3\n",
    "\n",
    "# Apply ReLU activation\n",
    "a1 = max(0, z1)\n",
    "a2 = max(0, z2)\n",
    "a3 = max(0, z3)\n",
    "\n",
    "print(\"z1, z2, z3 =\", z1, z2, z3)\n",
    "print(\"a1, a2, a3 (ReLU) =\", a1, a2, a3)\n"
   ]
  },
  {
   "cell_type": "markdown",
   "id": "64e06cc8",
   "metadata": {},
   "source": [
    "## Matrix Computation\n",
    "All neurons computed in parallel using matrix multiplication."
   ]
  },
  {
   "cell_type": "code",
   "execution_count": 3,
   "id": "27c643ce",
   "metadata": {},
   "outputs": [
    {
     "name": "stdout",
     "output_type": "stream",
     "text": [
      "z (matrix form): [0.9 2.4 3.9]\n",
      "a (ReLU): [0.9 2.4 3.9]\n"
     ]
    }
   ],
   "source": [
    "# Weight matrix: rows = neurons, columns = inputs\n",
    "W = np.array([\n",
    "    [0.1, 0.2],\n",
    "    [0.4, 0.5],\n",
    "    [0.7, 0.8]\n",
    "])  # shape (3, 2)\n",
    "\n",
    "# Bias vector\n",
    "b = np.array([0.1, 0.1, 0.1])  # shape (3,)\n",
    "\n",
    "# Input vector\n",
    "x_vec = np.array([x1, x2])  # shape (2,)\n",
    "\n",
    "# z = W @ x + b\n",
    "z = W @ x_vec + b\n",
    "a = np.maximum(0, z)  # ReLU\n",
    "\n",
    "print(\"z (matrix form):\", z)\n",
    "print(\"a (ReLU):\", a)\n"
   ]
  },
  {
   "cell_type": "markdown",
   "id": "279cafba",
   "metadata": {},
   "source": [
    "## Conclusion\n",
    "- Each neuron uses all input features and computes its own output.\n",
    "- Matrix multiplication is just a parallelized way to compute all neurons at once."
   ]
  },
  {
   "cell_type": "code",
   "execution_count": 1,
   "id": "2b367365",
   "metadata": {},
   "outputs": [
    {
     "name": "stdout",
     "output_type": "stream",
     "text": [
      "(1, 2)\n",
      "(2, 3)\n",
      "(3, 4)\n",
      "(4, 5)\n",
      "(5, 6)\n",
      "(6, 7)\n",
      "(7, 8)\n",
      "(8, 9)\n",
      "(9, 10)\n"
     ]
    }
   ],
   "source": [
    "ids = [1, 2, 3, 4, 5, 6, 7, 8, 9, 10]\n",
    "for pair in zip(ids, ids[1:]):\n",
    "    print(f\"{pair}\")"
   ]
  }
 ],
 "metadata": {
  "kernelspec": {
   "display_name": ".venv",
   "language": "python",
   "name": "python3"
  },
  "language_info": {
   "codemirror_mode": {
    "name": "ipython",
    "version": 3
   },
   "file_extension": ".py",
   "mimetype": "text/x-python",
   "name": "python",
   "nbconvert_exporter": "python",
   "pygments_lexer": "ipython3",
   "version": "3.12.10"
  }
 },
 "nbformat": 4,
 "nbformat_minor": 5
}
